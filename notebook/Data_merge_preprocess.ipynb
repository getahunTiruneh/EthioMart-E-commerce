{
 "cells": [
  {
   "cell_type": "code",
   "execution_count": 1,
   "metadata": {},
   "outputs": [],
   "source": [
    "import os\n",
    "import sys\n",
    "import numpy as np\n",
    "import pandas as pd\n",
    "current_dir = os.getcwd()\n",
    "\n",
    "# Append the parent directory to sys.path\n",
    "parent_dir = os.path.dirname(current_dir)\n",
    "sys.path.append(parent_dir)\n",
    "\n",
    "# ignore warrnings\n",
    "import warnings\n",
    "warnings.filterwarnings(\"ignore\")"
   ]
  },
  {
   "cell_type": "code",
   "execution_count": 2,
   "metadata": {},
   "outputs": [],
   "source": [
    "from scripts.merge_labeled_data import merge_conll_files, fix_conll_labels"
   ]
  },
  {
   "cell_type": "code",
   "execution_count": 8,
   "metadata": {},
   "outputs": [
    {
     "name": "stdout",
     "output_type": "stream",
     "text": [
      "All .conll files from E:\\Kiffya_10_acc\\Week 5\\Data\\Labled_data merged successfully into merged_data.conll\n"
     ]
    }
   ],
   "source": [
    "folder_path = 'E:\\Kiffya_10_acc\\Week 5\\Data\\Labled_data'  # our folder path\n",
    "output_file = 'merged_data.conll'    # desired output file path\n",
    "\n",
    "# Call the function to merge files\n",
    "merge_conll_files(folder_path, output_file)"
   ]
  },
  {
   "attachments": {},
   "cell_type": "markdown",
   "metadata": {},
   "source": [
    "### Fix label inconsistencies in a .conll file:"
   ]
  },
  {
   "cell_type": "code",
   "execution_count": 4,
   "metadata": {},
   "outputs": [
    {
     "name": "stdout",
     "output_type": "stream",
     "text": [
      "Labels fixed and saved to ../Data/cleaned_file.conll\n",
      "Processed file saved to ../Data/cleaned_file.conll\n"
     ]
    }
   ],
   "source": [
    "# Example usage\n",
    "input_file = 'merged_data.conll'\n",
    "output_file = '../Data/cleaned_file.conll'\n",
    "fix_conll_labels(input_file, output_file)\n",
    "\n",
    "print(f\"Processed file saved to {output_file}\")"
   ]
  },
  {
   "attachments": {},
   "cell_type": "markdown",
   "metadata": {},
   "source": [
    "## End"
   ]
  }
 ],
 "metadata": {
  "kernelspec": {
   "display_name": "Python 3",
   "language": "python",
   "name": "python3"
  },
  "language_info": {
   "codemirror_mode": {
    "name": "ipython",
    "version": 3
   },
   "file_extension": ".py",
   "mimetype": "text/x-python",
   "name": "python",
   "nbconvert_exporter": "python",
   "pygments_lexer": "ipython3",
   "version": "3.12.6"
  },
  "orig_nbformat": 4
 },
 "nbformat": 4,
 "nbformat_minor": 2
}
