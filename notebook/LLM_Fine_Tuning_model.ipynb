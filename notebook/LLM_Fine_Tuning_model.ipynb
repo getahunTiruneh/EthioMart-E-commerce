{
  "cells": [
    {
      "attachments": {},
      "cell_type": "markdown",
      "metadata": {},
      "source": [
        "### install important liberaries"
      ]
    },
    {
      "cell_type": "code",
      "execution_count": 3,
      "metadata": {
        "colab": {
          "base_uri": "https://localhost:8080/"
        },
        "collapsed": true,
        "id": "Cn46mrLF_wal",
        "outputId": "89f257b6-853d-406c-e433-e1a0f5851ebe"
      },
      "outputs": [],
      "source": [
        "# !pip install transformers datasets seqeval\n",
        "# !pip install torch --upgrade"
      ]
    },
    {
      "cell_type": "code",
      "execution_count": 2,
      "metadata": {
        "colab": {
          "base_uri": "https://localhost:8080/"
        },
        "id": "8zaI5JTUI2gi",
        "outputId": "0741847f-5aac-4721-8032-d0da03d4168a"
      },
      "outputs": [
        {
          "name": "stdout",
          "output_type": "stream",
          "text": [
            "Mounted at /content/drive\n"
          ]
        }
      ],
      "source": [
        "# mount drive\n",
        "from google.colab import drive\n",
        "drive.mount('/content/drive')"
      ]
    },
    {
      "cell_type": "code",
      "execution_count": 2,
      "metadata": {
        "colab": {
          "base_uri": "https://localhost:8080/"
        },
        "id": "5E33C0ptjQyF",
        "outputId": "7c6d8ee0-b7a1-449a-848f-72eabbd85703"
      },
      "outputs": [],
      "source": [
        "# !pip install evaluate"
      ]
    },
    {
      "attachments": {},
      "cell_type": "markdown",
      "metadata": {
        "id": "-FU5B6AjBGav"
      },
      "source": [
        "## Import Liberaries"
      ]
    },
    {
      "cell_type": "code",
      "execution_count": 4,
      "metadata": {
        "id": "PjvbkifzBFcM"
      },
      "outputs": [],
      "source": [
        "import torch\n",
        "from transformers import AutoTokenizer, AutoModelForTokenClassification, Trainer, TrainingArguments\n",
        "import numpy as np\n",
        "import pandas as pd\n",
        "from datasets import load_dataset, Dataset\n",
        "import evaluate\n",
        "\n",
        "# Igrnore warrnings\n",
        "import warnings\n",
        "warnings.filterwarnings(\"ignore\")"
      ]
    },
    {
      "attachments": {},
      "cell_type": "markdown",
      "metadata": {
        "id": "kPHINbVVuVlW"
      },
      "source": [
        "## 1. Load and Parse Our Dataset"
      ]
    },
    {
      "cell_type": "code",
      "execution_count": 74,
      "metadata": {
        "id": "VKoqb6EBzC7s"
      },
      "outputs": [],
      "source": [
        "# Import necessary libraries\n",
        "from transformers import AutoTokenizer, AutoModelForTokenClassification, Trainer, TrainingArguments\n",
        "import numpy as np\n",
        "from datasets import Dataset\n",
        "import evaluate  # Corrected import for loading metrics\n",
        "\n",
        "# Load the evaluation metric using the `evaluate` library\n",
        "metric = evaluate.load(\"seqeval\")\n",
        "\n",
        "# Define the label mapping\n",
        "label_map = {\n",
        "    \"O\": 0,\n",
        "    \"B-PRODUCT\": 1,\n",
        "    \"I-PRODUCT\": 2,\n",
        "    \"B-PRICE\": 3,\n",
        "    \"I-PRICE\": 4,\n",
        "    \"B-LOC\": 5,\n",
        "    \"I-LOC\": 6,\n",
        "    # Add other labels as necessary\n",
        "}\n",
        "\n",
        "your_number_of_labels = len(label_map)\n",
        "id_to_label = {i: label for label, i in label_map.items()}\n",
        "\n",
        "# Define a function to parse your CoNLL formatted data\n",
        "def parse_conll(file_path):\n",
        "    sentences = []\n",
        "    labels = []\n",
        "    with open(file_path, 'r', encoding='utf-8') as f:\n",
        "        current_sentence = []\n",
        "        current_labels = []\n",
        "        for line in f:\n",
        "            line = line.strip()  # Remove leading/trailing whitespace\n",
        "            if line:  # If the line is not empty\n",
        "                try:\n",
        "                    token, label = line.split()  # Split token and label\n",
        "                    current_sentence.append(token)\n",
        "                    current_labels.append(label)\n",
        "                except ValueError:\n",
        "                    print(f\"Skipping line due to unpacking error: {line}\")  # Log the error line\n",
        "            else:  # End of a sentence\n",
        "                if current_sentence:  # Check if there's a sentence to add\n",
        "                    sentences.append(current_sentence)\n",
        "                    labels.append(current_labels)\n",
        "                    current_sentence = []\n",
        "                    current_labels = []\n",
        "        # Add the last sentence if exists\n",
        "        if current_sentence:\n",
        "            sentences.append(current_sentence)\n",
        "            labels.append(current_labels)\n",
        "\n",
        "    # Convert to Dataset format\n",
        "    return Dataset.from_dict({\"tokens\": sentences, \"ner_tags\": labels})"
      ]
    },
    {
      "attachments": {},
      "cell_type": "markdown",
      "metadata": {
        "id": "9ae85pO4udB1"
      },
      "source": [
        "  ## 2. Convert to Dataset"
      ]
    },
    {
      "cell_type": "code",
      "execution_count": 75,
      "metadata": {
        "id": "jCSYIw8dDZmo"
      },
      "outputs": [],
      "source": [
        "# Load and preprocess the CoNLL dataset\n",
        "file_path = \"/content/cleaned_file.conll\"\n",
        "dataset = parse_conll(file_path)"
      ]
    },
    {
      "cell_type": "code",
      "execution_count": 76,
      "metadata": {
        "colab": {
          "base_uri": "https://localhost:8080/"
        },
        "id": "qWUEn8knEk1a",
        "outputId": "514dc97e-1548-4cc3-de48-300b39fb4014"
      },
      "outputs": [
        {
          "data": {
            "text/plain": [
              "Dataset({\n",
              "    features: ['tokens', 'ner_tags'],\n",
              "    num_rows: 22192\n",
              "})"
            ]
          },
          "execution_count": 76,
          "metadata": {},
          "output_type": "execute_result"
        }
      ],
      "source": [
        "dataset"
      ]
    },
    {
      "attachments": {},
      "cell_type": "markdown",
      "metadata": {
        "id": "dXr6vLj_LNCN"
      },
      "source": [
        "## 3. Tokenize and Align Labels"
      ]
    },
    {
      "cell_type": "code",
      "execution_count": 77,
      "metadata": {
        "id": "Xd9sycOp5ya5"
      },
      "outputs": [],
      "source": [
        "# Define a function to align labels with tokenized inputs\n",
        "def tokenize_and_align_labels(examples, tokenizer, label_map):\n",
        "    tokenized_inputs = tokenizer(\n",
        "        examples[\"tokens\"],\n",
        "        padding='max_length',        # Pad sequences to max_length\n",
        "        truncation=True,             # Truncate sequences if they're too long\n",
        "        max_length=128,              # Set a maximum length for padding\n",
        "        is_split_into_words=True     # Since tokens are provided as word-level tokens\n",
        "    )\n",
        "\n",
        "    # Align labels with tokens\n",
        "    labels = []\n",
        "    for i, label in enumerate(examples[\"ner_tags\"]):\n",
        "        word_ids = tokenized_inputs.word_ids(batch_index=i)  # Map tokens to their respective word\n",
        "        aligned_labels = []\n",
        "        previous_word_idx = None\n",
        "        for word_idx in word_ids:\n",
        "            if word_idx is None:\n",
        "                aligned_labels.append(-100)  # Padding token should have a special label\n",
        "            elif word_idx != previous_word_idx:\n",
        "                aligned_labels.append(label_map[label[word_idx]])  # Map label to the correct index\n",
        "            else:\n",
        "                aligned_labels.append(-100)  # Subword tokens will be masked for loss calculation\n",
        "            previous_word_idx = word_idx\n",
        "        labels.append(aligned_labels)\n",
        "\n",
        "    tokenized_inputs[\"labels\"] = labels\n",
        "    return tokenized_inputs"
      ]
    },
    {
      "attachments": {},
      "cell_type": "markdown",
      "metadata": {
        "id": "GYC8-aE6E1A1"
      },
      "source": [
        "### Process dataset for training"
      ]
    },
    {
      "cell_type": "code",
      "execution_count": 78,
      "metadata": {
        "id": "WDm63Pfz62Ru"
      },
      "outputs": [],
      "source": [
        "# Process dataset for training\n",
        "def process_dataset(dataset, tokenizer, label_map):\n",
        "    # Map the tokenization and label alignment to the dataset\n",
        "    return dataset.map(lambda examples: tokenize_and_align_labels(examples, tokenizer, label_map), batched=True)"
      ]
    },
    {
      "attachments": {},
      "cell_type": "markdown",
      "metadata": {
        "id": "ZEHSxAozLXvO"
      },
      "source": [
        "## 4. Fine-tune Models"
      ]
    },
    {
      "cell_type": "code",
      "execution_count": 79,
      "metadata": {
        "id": "PfNzSgBwGSu5"
      },
      "outputs": [],
      "source": [
        "# Step 1: Split dataset into training and test sets\n",
        "def process_and_split_dataset(dataset, tokenizer, label_map):\n",
        "    # Tokenize and align labels for the dataset\n",
        "    tokenized_datasets = dataset.map(lambda examples: tokenize_and_align_labels(examples, tokenizer, label_map), batched=True)\n",
        "\n",
        "    # Split dataset into train and test sets (80% train, 20% test)\n",
        "    split_dataset = tokenized_datasets.train_test_split(test_size=0.2)\n",
        "\n",
        "    return split_dataset"
      ]
    },
    {
      "cell_type": "code",
      "execution_count": 81,
      "metadata": {
        "id": "4wwgBduI66NS"
      },
      "outputs": [],
      "source": [
        "# Generalized model training function\n",
        "# Step 2: Generalized model training function with train/test split\n",
        "def train_model(model_name, split_dataset, label_map, id_to_label):\n",
        "    # Load the tokenizer and model\n",
        "    tokenizer = AutoTokenizer.from_pretrained(model_name)\n",
        "    model = AutoModelForTokenClassification.from_pretrained(model_name, num_labels=len(label_map))\n",
        "\n",
        "    # Define compute_metrics function for evaluation\n",
        "    def compute_metrics(p):\n",
        "        predictions, labels = p\n",
        "        predictions = np.argmax(predictions, axis=2)\n",
        "\n",
        "        true_labels = [[id_to_label[l] for l in label if l != -100] for label in labels]\n",
        "        pred_labels = [[id_to_label[p] for p, l in zip(prediction, label) if l != -100]\n",
        "                       for prediction, label in zip(predictions, labels)]\n",
        "\n",
        "        results = metric.compute(predictions=pred_labels, references=true_labels)\n",
        "        return {\n",
        "            \"precision\": results[\"overall_precision\"],\n",
        "            \"recall\": results[\"overall_recall\"],\n",
        "            \"f1\": results[\"overall_f1\"],\n",
        "            \"accuracy\": results[\"overall_accuracy\"],\n",
        "        }\n",
        "\n",
        "    # Define training arguments\n",
        "    training_args = TrainingArguments(\n",
        "        output_dir=f'./results/{model_name}',  # Save results separately for each model\n",
        "        evaluation_strategy=\"epoch\",\n",
        "        logging_strategy=\"steps\",     # Log at regular intervals (steps)\n",
        "        logging_steps=10,             # Log every 10 steps (adjust as needed)\n",
        "        learning_rate=2e-5,\n",
        "        per_device_train_batch_size=16,\n",
        "        per_device_eval_batch_size=16,\n",
        "        num_train_epochs=3,\n",
        "        weight_decay=0.01,\n",
        "        logging_dir='/content/logs',  # Directory for storing logs\n",
        "        report_to=\"none\"  # Disable reporting to external services like WandB\n",
        "    )\n",
        "\n",
        "    # Initialize Trainer\n",
        "    trainer = Trainer(\n",
        "        model=model,\n",
        "        args=training_args,\n",
        "        train_dataset=split_dataset['train'],  # Pass the train dataset split\n",
        "        eval_dataset=split_dataset['test'],    # Pass the test dataset split\n",
        "        tokenizer=tokenizer,\n",
        "        compute_metrics=compute_metrics\n",
        "    )\n",
        "\n",
        "    # Fine-tune the model\n",
        "    trainer.train()\n",
        "\n",
        "    # Evaluate the model\n",
        "    evaluation_results = trainer.evaluate()\n",
        "    # Save the model and tokenizer after evaluation\n",
        "    model.save_pretrained(f'./models/{model_name}')\n",
        "    tokenizer.save_pretrained(f'./models/{model_name}')\n",
        "\n",
        "    print(f\"{model_name} and tokenizer saved successfully!\")\n",
        "    return evaluation_results"
      ]
    },
    {
      "cell_type": "code",
      "execution_count": 82,
      "metadata": {
        "id": "0tEsnFI87BDb"
      },
      "outputs": [],
      "source": [
        "# Step 3: Train multiple models with split datasets\n",
        "def train_multiple_models(models_to_train, dataset, label_map, id_to_label):\n",
        "    results = {}\n",
        "    for model_name in models_to_train:\n",
        "        print(f\"\\nTraining model: {model_name}\\n\")\n",
        "        tokenizer = AutoTokenizer.from_pretrained(model_name)\n",
        "\n",
        "        # Process and split dataset into train and test\n",
        "        split_dataset = process_and_split_dataset(dataset, tokenizer, label_map)\n",
        "\n",
        "        # Train model on the split dataset\n",
        "        result = train_model(model_name, split_dataset, label_map, id_to_label)\n",
        "        results[model_name] = result\n",
        "    return results"
      ]
    },
    {
      "cell_type": "code",
      "execution_count": 83,
      "metadata": {
        "colab": {
          "base_uri": "https://localhost:8080/",
          "height": 1000,
          "referenced_widgets": [
            "c8bce856b2c441bfb6ef7e73d7ecf64d",
            "e74846db28674791ae00ded593529a5c",
            "d95be85bf4a1459ba96d8f1527fe3724",
            "e0d2eded18c64922b489351fff80af18",
            "477e47f10998404e93a174df53ff06f7",
            "a47ac959cfa444caba582062290a3a74",
            "1d639707b65a458c92f94eff7a0ea98f",
            "d6ae04552a53467799b1e6067fbd82f3",
            "034faac1724f452db25acba3ce26fd96",
            "e31bce2fd2c64d5b9b14d3464faa2521",
            "122f6c40fa2940cb9cf5136be07fe04a",
            "dddaec221fba4ba783b33858d0fa926a",
            "d4907ec164434ebfaa07acc5e3a52a14",
            "d813a720cd72428b9f3b14f37e8e9b87",
            "040155f3a6584a8695d9430de8460559",
            "7bb66b4e66af45f6bfc17cb5536e9c88",
            "61f0f5877c8d416fbe61be047cab5e29",
            "10ca502896e549e0904784d8fe7cff91",
            "132c13a264e749d99be033155297716f",
            "a358b22a55d84ca18f210851e7bbcfd0",
            "7be3dc6d67be4956803e932be39f33bc",
            "1fba5505ea1d447d9659214334354b23",
            "b382adf2731042c787546109a84dc3f6",
            "de6030f90dc34325bbbaf15d9216a1aa",
            "b0e5befb19034c9fa0d1164b9e2c7b19",
            "9f660c3dda2d4a469bf9c4ee14e485bf",
            "5ad0362a3a3c4cc0bd7cfe61c1d36f78",
            "bb991278ca64403a95a440b1a7c3cdb0",
            "5f255ab398c84f908031600fd9eb1e58",
            "f6efa4e4c28f4eba969593ff92f857b1",
            "c3c1f33e5edf4ec7b3ac69656a155e87",
            "d41388fd203e4afaa42323fd7e97c0dc",
            "5ed9309d3b4c451ebdc33653e72472e2"
          ]
        },
        "id": "gm9pV3BQ7FHs",
        "outputId": "7397989d-6858-4b54-c7c9-e01b441d017e"
      },
      "outputs": [
        {
          "name": "stdout",
          "output_type": "stream",
          "text": [
            "\n",
            "Training model: xlm-roberta-base\n",
            "\n"
          ]
        },
        {
          "data": {
            "application/vnd.jupyter.widget-view+json": {
              "model_id": "c8bce856b2c441bfb6ef7e73d7ecf64d",
              "version_major": 2,
              "version_minor": 0
            },
            "text/plain": [
              "Map:   0%|          | 0/22192 [00:00<?, ? examples/s]"
            ]
          },
          "metadata": {},
          "output_type": "display_data"
        },
        {
          "name": "stderr",
          "output_type": "stream",
          "text": [
            "Some weights of XLMRobertaForTokenClassification were not initialized from the model checkpoint at xlm-roberta-base and are newly initialized: ['classifier.bias', 'classifier.weight']\n",
            "You should probably TRAIN this model on a down-stream task to be able to use it for predictions and inference.\n"
          ]
        },
        {
          "data": {
            "text/html": [
              "\n",
              "    <div>\n",
              "      \n",
              "      <progress value='3330' max='3330' style='width:300px; height:20px; vertical-align: middle;'></progress>\n",
              "      [3330/3330 30:23, Epoch 3/3]\n",
              "    </div>\n",
              "    <table border=\"1\" class=\"dataframe\">\n",
              "  <thead>\n",
              " <tr style=\"text-align: left;\">\n",
              "      <th>Epoch</th>\n",
              "      <th>Training Loss</th>\n",
              "      <th>Validation Loss</th>\n",
              "      <th>Precision</th>\n",
              "      <th>Recall</th>\n",
              "      <th>F1</th>\n",
              "      <th>Accuracy</th>\n",
              "    </tr>\n",
              "  </thead>\n",
              "  <tbody>\n",
              "    <tr>\n",
              "      <td>1</td>\n",
              "      <td>0.030200</td>\n",
              "      <td>0.025671</td>\n",
              "      <td>0.833333</td>\n",
              "      <td>0.853454</td>\n",
              "      <td>0.843274</td>\n",
              "      <td>0.992279</td>\n",
              "    </tr>\n",
              "    <tr>\n",
              "      <td>2</td>\n",
              "      <td>0.017100</td>\n",
              "      <td>0.016467</td>\n",
              "      <td>0.904314</td>\n",
              "      <td>0.934943</td>\n",
              "      <td>0.919373</td>\n",
              "      <td>0.995727</td>\n",
              "    </tr>\n",
              "    <tr>\n",
              "      <td>3</td>\n",
              "      <td>0.012400</td>\n",
              "      <td>0.014441</td>\n",
              "      <td>0.920640</td>\n",
              "      <td>0.945339</td>\n",
              "      <td>0.932826</td>\n",
              "      <td>0.996574</td>\n",
              "    </tr>\n",
              "  </tbody>\n",
              "</table><p>"
            ],
            "text/plain": [
              "<IPython.core.display.HTML object>"
            ]
          },
          "metadata": {},
          "output_type": "display_data"
        },
        {
          "data": {
            "text/html": [
              "\n",
              "    <div>\n",
              "      \n",
              "      <progress value='278' max='278' style='width:300px; height:20px; vertical-align: middle;'></progress>\n",
              "      [278/278 00:33]\n",
              "    </div>\n",
              "    "
            ],
            "text/plain": [
              "<IPython.core.display.HTML object>"
            ]
          },
          "metadata": {},
          "output_type": "display_data"
        },
        {
          "name": "stdout",
          "output_type": "stream",
          "text": [
            "xlm-roberta-base and tokenizer saved successfully!\n",
            "\n",
            "Training model: distilbert-base-uncased\n",
            "\n"
          ]
        },
        {
          "data": {
            "application/vnd.jupyter.widget-view+json": {
              "model_id": "dddaec221fba4ba783b33858d0fa926a",
              "version_major": 2,
              "version_minor": 0
            },
            "text/plain": [
              "Map:   0%|          | 0/22192 [00:00<?, ? examples/s]"
            ]
          },
          "metadata": {},
          "output_type": "display_data"
        },
        {
          "name": "stderr",
          "output_type": "stream",
          "text": [
            "Some weights of DistilBertForTokenClassification were not initialized from the model checkpoint at distilbert-base-uncased and are newly initialized: ['classifier.bias', 'classifier.weight']\n",
            "You should probably TRAIN this model on a down-stream task to be able to use it for predictions and inference.\n"
          ]
        },
        {
          "data": {
            "text/html": [
              "\n",
              "    <div>\n",
              "      \n",
              "      <progress value='3330' max='3330' style='width:300px; height:20px; vertical-align: middle;'></progress>\n",
              "      [3330/3330 11:55, Epoch 3/3]\n",
              "    </div>\n",
              "    <table border=\"1\" class=\"dataframe\">\n",
              "  <thead>\n",
              " <tr style=\"text-align: left;\">\n",
              "      <th>Epoch</th>\n",
              "      <th>Training Loss</th>\n",
              "      <th>Validation Loss</th>\n",
              "      <th>Precision</th>\n",
              "      <th>Recall</th>\n",
              "      <th>F1</th>\n",
              "      <th>Accuracy</th>\n",
              "    </tr>\n",
              "  </thead>\n",
              "  <tbody>\n",
              "    <tr>\n",
              "      <td>1</td>\n",
              "      <td>0.059200</td>\n",
              "      <td>0.068677</td>\n",
              "      <td>0.728959</td>\n",
              "      <td>0.490090</td>\n",
              "      <td>0.586121</td>\n",
              "      <td>0.980018</td>\n",
              "    </tr>\n",
              "    <tr>\n",
              "      <td>2</td>\n",
              "      <td>0.047800</td>\n",
              "      <td>0.059061</td>\n",
              "      <td>0.815118</td>\n",
              "      <td>0.572251</td>\n",
              "      <td>0.672427</td>\n",
              "      <td>0.983379</td>\n",
              "    </tr>\n",
              "    <tr>\n",
              "      <td>3</td>\n",
              "      <td>0.045600</td>\n",
              "      <td>0.055294</td>\n",
              "      <td>0.839495</td>\n",
              "      <td>0.595269</td>\n",
              "      <td>0.696596</td>\n",
              "      <td>0.984391</td>\n",
              "    </tr>\n",
              "  </tbody>\n",
              "</table><p>"
            ],
            "text/plain": [
              "<IPython.core.display.HTML object>"
            ]
          },
          "metadata": {},
          "output_type": "display_data"
        },
        {
          "data": {
            "text/html": [
              "\n",
              "    <div>\n",
              "      \n",
              "      <progress value='278' max='278' style='width:300px; height:20px; vertical-align: middle;'></progress>\n",
              "      [278/278 00:17]\n",
              "    </div>\n",
              "    "
            ],
            "text/plain": [
              "<IPython.core.display.HTML object>"
            ]
          },
          "metadata": {},
          "output_type": "display_data"
        },
        {
          "name": "stdout",
          "output_type": "stream",
          "text": [
            "distilbert-base-uncased and tokenizer saved successfully!\n",
            "\n",
            "Training model: bert-base-multilingual-cased\n",
            "\n"
          ]
        },
        {
          "data": {
            "application/vnd.jupyter.widget-view+json": {
              "model_id": "b382adf2731042c787546109a84dc3f6",
              "version_major": 2,
              "version_minor": 0
            },
            "text/plain": [
              "Map:   0%|          | 0/22192 [00:00<?, ? examples/s]"
            ]
          },
          "metadata": {},
          "output_type": "display_data"
        },
        {
          "name": "stderr",
          "output_type": "stream",
          "text": [
            "Some weights of BertForTokenClassification were not initialized from the model checkpoint at bert-base-multilingual-cased and are newly initialized: ['classifier.bias', 'classifier.weight']\n",
            "You should probably TRAIN this model on a down-stream task to be able to use it for predictions and inference.\n"
          ]
        },
        {
          "data": {
            "text/html": [
              "\n",
              "    <div>\n",
              "      \n",
              "      <progress value='3330' max='3330' style='width:300px; height:20px; vertical-align: middle;'></progress>\n",
              "      [3330/3330 26:21, Epoch 3/3]\n",
              "    </div>\n",
              "    <table border=\"1\" class=\"dataframe\">\n",
              "  <thead>\n",
              " <tr style=\"text-align: left;\">\n",
              "      <th>Epoch</th>\n",
              "      <th>Training Loss</th>\n",
              "      <th>Validation Loss</th>\n",
              "      <th>Precision</th>\n",
              "      <th>Recall</th>\n",
              "      <th>F1</th>\n",
              "      <th>Accuracy</th>\n",
              "    </tr>\n",
              "  </thead>\n",
              "  <tbody>\n",
              "    <tr>\n",
              "      <td>1</td>\n",
              "      <td>0.063300</td>\n",
              "      <td>0.067634</td>\n",
              "      <td>0.719307</td>\n",
              "      <td>0.478080</td>\n",
              "      <td>0.574394</td>\n",
              "      <td>0.980032</td>\n",
              "    </tr>\n",
              "    <tr>\n",
              "      <td>2</td>\n",
              "      <td>0.046100</td>\n",
              "      <td>0.055603</td>\n",
              "      <td>0.784788</td>\n",
              "      <td>0.581120</td>\n",
              "      <td>0.667770</td>\n",
              "      <td>0.983963</td>\n",
              "    </tr>\n",
              "    <tr>\n",
              "      <td>3</td>\n",
              "      <td>0.040400</td>\n",
              "      <td>0.050679</td>\n",
              "      <td>0.838710</td>\n",
              "      <td>0.624000</td>\n",
              "      <td>0.715596</td>\n",
              "      <td>0.985604</td>\n",
              "    </tr>\n",
              "  </tbody>\n",
              "</table><p>"
            ],
            "text/plain": [
              "<IPython.core.display.HTML object>"
            ]
          },
          "metadata": {},
          "output_type": "display_data"
        },
        {
          "data": {
            "text/html": [
              "\n",
              "    <div>\n",
              "      \n",
              "      <progress value='278' max='278' style='width:300px; height:20px; vertical-align: middle;'></progress>\n",
              "      [278/278 00:33]\n",
              "    </div>\n",
              "    "
            ],
            "text/plain": [
              "<IPython.core.display.HTML object>"
            ]
          },
          "metadata": {},
          "output_type": "display_data"
        },
        {
          "name": "stdout",
          "output_type": "stream",
          "text": [
            "bert-base-multilingual-cased and tokenizer saved successfully!\n",
            "\n",
            "Results for model: xlm-roberta-base\n",
            "\n",
            "{'eval_loss': 0.014440957456827164, 'eval_precision': 0.9206401045068583, 'eval_recall': 0.9453386988598256, 'eval_f1': 0.9328259430840502, 'eval_accuracy': 0.9965744183257376, 'eval_runtime': 36.3649, 'eval_samples_per_second': 122.068, 'eval_steps_per_second': 7.645, 'epoch': 3.0}\n",
            "\n",
            "Results for model: distilbert-base-uncased\n",
            "\n",
            "{'eval_loss': 0.055294107645750046, 'eval_precision': 0.8394950405770965, 'eval_recall': 0.5952685421994884, 'eval_f1': 0.6965955854844742, 'eval_accuracy': 0.9843908135461269, 'eval_runtime': 20.3437, 'eval_samples_per_second': 218.2, 'eval_steps_per_second': 13.665, 'epoch': 3.0}\n",
            "\n",
            "Results for model: bert-base-multilingual-cased\n",
            "\n",
            "{'eval_loss': 0.050678953528404236, 'eval_precision': 0.8387096774193549, 'eval_recall': 0.624, 'eval_f1': 0.7155963302752294, 'eval_accuracy': 0.9856042765483999, 'eval_runtime': 37.1127, 'eval_samples_per_second': 119.609, 'eval_steps_per_second': 7.491, 'epoch': 3.0}\n"
          ]
        }
      ],
      "source": [
        "# Define models to train\n",
        "models_to_train = [\"xlm-roberta-base\", \"distilbert-base-uncased\", \"bert-base-multilingual-cased\"]\n",
        "\n",
        "# Train multiple models and compare results\n",
        "results = train_multiple_models(models_to_train, dataset, label_map, id_to_label)\n",
        "\n",
        "# Print results for each model\n",
        "for model_name, result in results.items():\n",
        "    print(f\"\\nResults for model: {model_name}\\n\")\n",
        "    print(result)"
      ]
    },
    {
      "attachments": {},
      "cell_type": "markdown",
      "metadata": {},
      "source": [
        "### Discussion:\n",
        "- **xlm-roberta-base**: achieves the highest accuracy (0.996574), showing it is the most accurate model overall in terms of correct predictions.\n",
        "- **bert-base-multilingual-cased** (0.985604) slightly outperforms distilbert-base-uncased (0.984391), but both are significantly lower than xlm-roberta-base.\n"
      ]
    },
    {
      "attachments": {},
      "cell_type": "markdown",
      "metadata": {
        "id": "CdNdIo77B_Di"
      },
      "source": [
        "## Model Testing by External data from telegram"
      ]
    },
    {
      "cell_type": "code",
      "execution_count": 101,
      "metadata": {
        "colab": {
          "base_uri": "https://localhost:8080/"
        },
        "id": "qtMbti3AlpCi",
        "outputId": "d11fe165-992f-4855-94e4-715f2dc256c9"
      },
      "outputs": [
        {
          "name": "stdout",
          "output_type": "stream",
          "text": [
            "Sentence: 'መገናኛ ዘፍመሽ ግራንድ ሞል 3 ተኛ ፎቅ ቁጥር 329 ቁጥር 2 :- ጀሞ 1 ከለላ ህንፃ ግራውንድ ለይ 2000 ብር G07' \n",
            " Predicted Entities: ['O', 'I-LOC', 'I-LOC', 'I-LOC', 'I-LOC', 'I-LOC', 'I-LOC', 'I-LOC', 'I-LOC', 'I-LOC', 'I-LOC', 'I-LOC', 'I-LOC', 'O', 'O', 'O', 'O', 'O', 'O', 'O', 'O', 'O', 'O', 'O', 'O', 'O', 'O', 'O', 'O', 'O', 'O', 'O', 'O', 'O', 'O', 'O', 'O', 'O', 'O', 'O', 'O', 'B-PRICE', 'I-PRICE', 'O']\n"
          ]
        }
      ],
      "source": [
        "import numpy as np\n",
        "import torch\n",
        "from transformers import AutoModelForTokenClassification, AutoTokenizer\n",
        "\n",
        "# Define model path and name\n",
        "model_name = \"xlm-roberta-base\"\n",
        "model_path = f'./models/{model_name}'\n",
        "\n",
        "# Load the model and tokenizer\n",
        "model = AutoModelForTokenClassification.from_pretrained(model_path)\n",
        "tokenizer = AutoTokenizer.from_pretrained(model_path)\n",
        "\n",
        "# Define your label mapping (reverse the dictionary to map indices back to labels)\n",
        "id_to_label = {\n",
        "    0: \"O\",\n",
        "    1: \"B-PRODUCT\",\n",
        "    2: \"I-PRODUCT\",\n",
        "    3: \"B-PRICE\",\n",
        "    4: \"I-PRICE\",\n",
        "    5: \"B-LOC\",\n",
        "    6: \"I-LOC\",\n",
        "    # Add other labels if necessary\n",
        "}\n",
        "\n",
        "# Sample test dataset\n",
        "test_sentences = [\n",
        "    \"መገናኛ ዘፍመሽ ግራንድ ሞል 3 ተኛ ፎቅ ቁጥር 329 ቁጥር 2 :- ጀሞ 1 ከለላ ህንፃ ግራውንድ ለይ 2000 ብር G07\"\n",
        "]\n",
        "\n",
        "# Function to predict entities\n",
        "def predict_entities(model, tokenizer, sentences):\n",
        "    inputs = tokenizer(sentences, padding=True, return_tensors=\"pt\", truncation=True, is_split_into_words=False)\n",
        "\n",
        "    with torch.no_grad():\n",
        "        outputs = model(**inputs)\n",
        "\n",
        "    # Get the predicted indices for each token\n",
        "    predictions = np.argmax(outputs.logits.detach().cpu().numpy(), axis=2)\n",
        "\n",
        "    # Convert the indices back to labels\n",
        "    predicted_labels = []\n",
        "    for i, sentence in enumerate(sentences):\n",
        "        tokens = tokenizer.tokenize(sentence)\n",
        "        sentence_labels = [id_to_label[p] for p in predictions[i][:len(tokens)]]  # Match tokens to predictions\n",
        "        predicted_labels.append(sentence_labels)\n",
        "\n",
        "    return predicted_labels\n",
        "\n",
        "# Example of predictions\n",
        "predictions = predict_entities(model, tokenizer, test_sentences)\n",
        "\n",
        "# Display predictions\n",
        "for sentence, preds in zip(test_sentences, predictions):\n",
        "    print(f\"Sentence: '{sentence}' \\n Predicted Entities: {preds}\")\n"
      ]
    },
    {
      "attachments": {},
      "cell_type": "markdown",
      "metadata": {},
      "source": [
        "### Conclusion\n",
        "- The model successfully identified location entities (B-LOC, I-LOC) for parts of the input sentence and price entities (B-PRICE, I-PRICE) for the amount mentioned.\n",
        "- Some parts of the sentence, such as numbers and other terms, were marked as non-entity words (O).\n",
        "- The results indicate that the model is capable of distinguishing between different types of entities (locations and prices), although further evaluation with more test data may be needed to assess its accuracy fully."
      ]
    },
    {
      "attachments": {},
      "cell_type": "markdown",
      "metadata": {
        "id": "zzXQv7QSadg4"
      },
      "source": [
        "## Task-5 Model interpritablity"
      ]
    },
    {
      "cell_type": "code",
      "execution_count": 1,
      "metadata": {
        "colab": {
          "base_uri": "https://localhost:8080/"
        },
        "id": "IbxH2p9pPfQz",
        "outputId": "bf401673-2aa2-4a12-8073-aa62436c0e94"
      },
      "outputs": [],
      "source": [
        "# !pip install shap lime"
      ]
    },
    {
      "cell_type": "code",
      "execution_count": 85,
      "metadata": {
        "id": "hiJCy64Tacpk"
      },
      "outputs": [],
      "source": [
        "import torch\n",
        "\n",
        "def predict_entities(model, tokenizer, text):\n",
        "    model.eval()\n",
        "    inputs = tokenizer(text, return_tensors=\"pt\", truncation=True, padding=True)\n",
        "    with torch.no_grad():\n",
        "        outputs = model(**inputs)\n",
        "    predictions = torch.argmax(outputs.logits, dim=2).numpy()\n",
        "    return predictions[0], inputs['input_ids'][0]"
      ]
    },
    {
      "cell_type": "code",
      "execution_count": 86,
      "metadata": {
        "id": "OzGgwLB4axeN"
      },
      "outputs": [],
      "source": [
        "from lime.lime_text import LimeTextExplainer\n",
        "\n",
        "# Create an instance of the LIME text explainer\n",
        "explainer = LimeTextExplainer(class_names=[id_to_label[label] for label in range(len(id_to_label))])\n",
        "\n",
        "def lime_explanation(text, model, tokenizer):\n",
        "    # Generate LIME explanations\n",
        "    exp = explainer.explain_instance(text, lambda x: model.predict(x), num_features=10)\n",
        "    return exp"
      ]
    },
    {
      "cell_type": "code",
      "execution_count": 87,
      "metadata": {
        "id": "eITuiQwPa1gC"
      },
      "outputs": [],
      "source": [
        "import shap\n",
        "\n",
        "def shap_explanation(text, model, tokenizer):\n",
        "    # Tokenize the input text\n",
        "    inputs = tokenizer(text, return_tensors=\"pt\")\n",
        "    # Get model predictions\n",
        "    with torch.no_grad():\n",
        "        output = model(**inputs)\n",
        "    shap_values = shap.KernelExplainer(model.predict, inputs)(inputs)\n",
        "    return shap_values"
      ]
    },
    {
      "cell_type": "code",
      "execution_count": 88,
      "metadata": {
        "id": "bgTk-ynia5WY"
      },
      "outputs": [],
      "source": [
        "def analyze_difficult_cases(model, tokenizer, examples):\n",
        "    difficult_cases = []\n",
        "    for text in examples:\n",
        "        predictions, _ = predict_entities(model, tokenizer, text)\n",
        "        if not all(pred in [0, 1] for pred in predictions):  # Assuming 0 and 1 are your valid labels\n",
        "            difficult_cases.append((text, predictions))\n",
        "    return difficult_cases"
      ]
    },
    {
      "cell_type": "code",
      "execution_count": 89,
      "metadata": {
        "id": "DL4Hv7fBa-FU"
      },
      "outputs": [],
      "source": [
        "def generate_report(difficult_cases, model, tokenizer):\n",
        "    report = []\n",
        "    for text, predictions in difficult_cases:\n",
        "        lime_exp = lime_explanation(text, model, tokenizer)\n",
        "        shap_values = shap_explanation(text, model, tokenizer)\n",
        "        report.append({\n",
        "            \"text\": text,\n",
        "            \"predictions\": predictions,\n",
        "            \"lime_explanation\": lime_exp,\n",
        "            \"shap_values\": shap_values\n",
        "        })\n",
        "    return report"
      ]
    },
    {
      "cell_type": "code",
      "execution_count": 104,
      "metadata": {
        "id": "WMTZjcWAhK-0"
      },
      "outputs": [],
      "source": [
        "import numpy as np\n",
        "import shap\n",
        "from lime.lime_text import LimeTextExplainer\n",
        "import torch\n",
        "from transformers import AutoModelForTokenClassification, AutoTokenizer\n",
        "\n",
        "# Define model path and name\n",
        "model_name = \"xlm-roberta-base\"\n",
        "model_path = f'./models/{model_name}'\n",
        "\n",
        "# Load the model and tokenizer\n",
        "model = AutoModelForTokenClassification.from_pretrained(model_path)\n",
        "tokenizer = AutoTokenizer.from_pretrained(model_path)\n",
        "\n",
        "# Define a function for SHAP\n",
        "def explain_with_shap(model, test_data, tokenizer):\n",
        "    # Tokenize test data\n",
        "    inputs = tokenizer(test_data, return_tensors=\"pt\", padding=True, truncation=True)\n",
        "    # Get predictions\n",
        "    with torch.no_grad():\n",
        "        outputs = model(**inputs)\n",
        "    predictions = np.argmax(outputs.logits.detach().numpy(), axis=2)\n",
        "\n",
        "    # Create a SHAP explainer\n",
        "    explainer = shap.Explainer(model, tokenizer)\n",
        "    shap_values = explainer(inputs['input_ids'])\n",
        "\n",
        "    # Visualize the SHAP values for the first instance\n",
        "    shap.initjs()\n",
        "    shap.summary_plot(shap_values, feature_names=tokenizer.convert_ids_to_tokens(inputs['input_ids'][0]))\n",
        "\n",
        "# Define a function for LIME\n",
        "def explain_with_lime(model, test_data, tokenizer):\n",
        "    explainer = LimeTextExplainer(class_names=['O', 'Product', 'Other'])  # Replace with your actual labels\n",
        "\n",
        "    def predict_proba(texts):\n",
        "        inputs = tokenizer(texts, return_tensors=\"pt\", padding=True, truncation=True)\n",
        "        with torch.no_grad():\n",
        "            outputs = model(**inputs)\n",
        "        return torch.softmax(outputs.logits, dim=1).numpy()\n",
        "\n",
        "    # Select a text example to explain\n",
        "    for text_example in test_data:  # Loop through test_data\n",
        "        explanation = explainer.explain_instance(text_example, predict_proba, num_features=10)\n",
        "\n",
        "        # Visualize the explanation\n",
        "        explanation.show_in_notebook()\n",
        "\n",
        "# Analyze difficult examples\n",
        "def analyze_difficult_examples(model, test_dataset):\n",
        "    difficult_examples = []  # Collect difficult examples based on your criteria\n",
        "    for text in test_dataset:\n",
        "        # Your logic to determine if an example is difficult\n",
        "        if \"ambiguous\" in text or \"overlapping\" in text:  # Example condition\n",
        "            difficult_examples.append(text)\n",
        "\n",
        "    # Explain using SHAP and LIME\n",
        "    for example in difficult_examples:\n",
        "        print(f\"Explaining example: {example}\")\n",
        "        explain_with_shap(model, example, tokenizer)\n",
        "        explain_with_lime(model, example, tokenizer)"
      ]
    },
    {
      "attachments": {},
      "cell_type": "markdown",
      "metadata": {},
      "source": [
        "### ***Sorry! I have finished my limmited GPU and I can't run the model interpretiblity.***"
      ]
    },
    {
      "attachments": {},
      "cell_type": "markdown",
      "metadata": {
        "id": "Uezf_7WlQC_2"
      },
      "source": [
        "## End"
      ]
    }
  ],
  "metadata": {
    "accelerator": "GPU",
    "colab": {
      "gpuType": "T4",
      "provenance": []
    },
    "kernelspec": {
      "display_name": "Python 3",
      "name": "python3"
    },
    "language_info": {
      "codemirror_mode": {
        "name": "ipython",
        "version": 3
      },
      "file_extension": ".py",
      "mimetype": "text/x-python",
      "name": "python",
      "nbconvert_exporter": "python",
      "pygments_lexer": "ipython3",
      "version": "3.12.6"
    },
    "widgets": {
      "application/vnd.jupyter.widget-state+json": {
        "034faac1724f452db25acba3ce26fd96": {
          "model_module": "@jupyter-widgets/controls",
          "model_module_version": "1.5.0",
          "model_name": "ProgressStyleModel",
          "state": {
            "_model_module": "@jupyter-widgets/controls",
            "_model_module_version": "1.5.0",
            "_model_name": "ProgressStyleModel",
            "_view_count": null,
            "_view_module": "@jupyter-widgets/base",
            "_view_module_version": "1.2.0",
            "_view_name": "StyleView",
            "bar_color": null,
            "description_width": ""
          }
        },
        "040155f3a6584a8695d9430de8460559": {
          "model_module": "@jupyter-widgets/controls",
          "model_module_version": "1.5.0",
          "model_name": "HTMLModel",
          "state": {
            "_dom_classes": [],
            "_model_module": "@jupyter-widgets/controls",
            "_model_module_version": "1.5.0",
            "_model_name": "HTMLModel",
            "_view_count": null,
            "_view_module": "@jupyter-widgets/controls",
            "_view_module_version": "1.5.0",
            "_view_name": "HTMLView",
            "description": "",
            "description_tooltip": null,
            "layout": "IPY_MODEL_7be3dc6d67be4956803e932be39f33bc",
            "placeholder": "​",
            "style": "IPY_MODEL_1fba5505ea1d447d9659214334354b23",
            "value": " 22192/22192 [00:11&lt;00:00, 2375.48 examples/s]"
          }
        },
        "10ca502896e549e0904784d8fe7cff91": {
          "model_module": "@jupyter-widgets/controls",
          "model_module_version": "1.5.0",
          "model_name": "DescriptionStyleModel",
          "state": {
            "_model_module": "@jupyter-widgets/controls",
            "_model_module_version": "1.5.0",
            "_model_name": "DescriptionStyleModel",
            "_view_count": null,
            "_view_module": "@jupyter-widgets/base",
            "_view_module_version": "1.2.0",
            "_view_name": "StyleView",
            "description_width": ""
          }
        },
        "122f6c40fa2940cb9cf5136be07fe04a": {
          "model_module": "@jupyter-widgets/controls",
          "model_module_version": "1.5.0",
          "model_name": "DescriptionStyleModel",
          "state": {
            "_model_module": "@jupyter-widgets/controls",
            "_model_module_version": "1.5.0",
            "_model_name": "DescriptionStyleModel",
            "_view_count": null,
            "_view_module": "@jupyter-widgets/base",
            "_view_module_version": "1.2.0",
            "_view_name": "StyleView",
            "description_width": ""
          }
        },
        "132c13a264e749d99be033155297716f": {
          "model_module": "@jupyter-widgets/base",
          "model_module_version": "1.2.0",
          "model_name": "LayoutModel",
          "state": {
            "_model_module": "@jupyter-widgets/base",
            "_model_module_version": "1.2.0",
            "_model_name": "LayoutModel",
            "_view_count": null,
            "_view_module": "@jupyter-widgets/base",
            "_view_module_version": "1.2.0",
            "_view_name": "LayoutView",
            "align_content": null,
            "align_items": null,
            "align_self": null,
            "border": null,
            "bottom": null,
            "display": null,
            "flex": null,
            "flex_flow": null,
            "grid_area": null,
            "grid_auto_columns": null,
            "grid_auto_flow": null,
            "grid_auto_rows": null,
            "grid_column": null,
            "grid_gap": null,
            "grid_row": null,
            "grid_template_areas": null,
            "grid_template_columns": null,
            "grid_template_rows": null,
            "height": null,
            "justify_content": null,
            "justify_items": null,
            "left": null,
            "margin": null,
            "max_height": null,
            "max_width": null,
            "min_height": null,
            "min_width": null,
            "object_fit": null,
            "object_position": null,
            "order": null,
            "overflow": null,
            "overflow_x": null,
            "overflow_y": null,
            "padding": null,
            "right": null,
            "top": null,
            "visibility": null,
            "width": null
          }
        },
        "1d639707b65a458c92f94eff7a0ea98f": {
          "model_module": "@jupyter-widgets/controls",
          "model_module_version": "1.5.0",
          "model_name": "DescriptionStyleModel",
          "state": {
            "_model_module": "@jupyter-widgets/controls",
            "_model_module_version": "1.5.0",
            "_model_name": "DescriptionStyleModel",
            "_view_count": null,
            "_view_module": "@jupyter-widgets/base",
            "_view_module_version": "1.2.0",
            "_view_name": "StyleView",
            "description_width": ""
          }
        },
        "1fba5505ea1d447d9659214334354b23": {
          "model_module": "@jupyter-widgets/controls",
          "model_module_version": "1.5.0",
          "model_name": "DescriptionStyleModel",
          "state": {
            "_model_module": "@jupyter-widgets/controls",
            "_model_module_version": "1.5.0",
            "_model_name": "DescriptionStyleModel",
            "_view_count": null,
            "_view_module": "@jupyter-widgets/base",
            "_view_module_version": "1.2.0",
            "_view_name": "StyleView",
            "description_width": ""
          }
        },
        "477e47f10998404e93a174df53ff06f7": {
          "model_module": "@jupyter-widgets/base",
          "model_module_version": "1.2.0",
          "model_name": "LayoutModel",
          "state": {
            "_model_module": "@jupyter-widgets/base",
            "_model_module_version": "1.2.0",
            "_model_name": "LayoutModel",
            "_view_count": null,
            "_view_module": "@jupyter-widgets/base",
            "_view_module_version": "1.2.0",
            "_view_name": "LayoutView",
            "align_content": null,
            "align_items": null,
            "align_self": null,
            "border": null,
            "bottom": null,
            "display": null,
            "flex": null,
            "flex_flow": null,
            "grid_area": null,
            "grid_auto_columns": null,
            "grid_auto_flow": null,
            "grid_auto_rows": null,
            "grid_column": null,
            "grid_gap": null,
            "grid_row": null,
            "grid_template_areas": null,
            "grid_template_columns": null,
            "grid_template_rows": null,
            "height": null,
            "justify_content": null,
            "justify_items": null,
            "left": null,
            "margin": null,
            "max_height": null,
            "max_width": null,
            "min_height": null,
            "min_width": null,
            "object_fit": null,
            "object_position": null,
            "order": null,
            "overflow": null,
            "overflow_x": null,
            "overflow_y": null,
            "padding": null,
            "right": null,
            "top": null,
            "visibility": null,
            "width": null
          }
        },
        "5ad0362a3a3c4cc0bd7cfe61c1d36f78": {
          "model_module": "@jupyter-widgets/base",
          "model_module_version": "1.2.0",
          "model_name": "LayoutModel",
          "state": {
            "_model_module": "@jupyter-widgets/base",
            "_model_module_version": "1.2.0",
            "_model_name": "LayoutModel",
            "_view_count": null,
            "_view_module": "@jupyter-widgets/base",
            "_view_module_version": "1.2.0",
            "_view_name": "LayoutView",
            "align_content": null,
            "align_items": null,
            "align_self": null,
            "border": null,
            "bottom": null,
            "display": null,
            "flex": null,
            "flex_flow": null,
            "grid_area": null,
            "grid_auto_columns": null,
            "grid_auto_flow": null,
            "grid_auto_rows": null,
            "grid_column": null,
            "grid_gap": null,
            "grid_row": null,
            "grid_template_areas": null,
            "grid_template_columns": null,
            "grid_template_rows": null,
            "height": null,
            "justify_content": null,
            "justify_items": null,
            "left": null,
            "margin": null,
            "max_height": null,
            "max_width": null,
            "min_height": null,
            "min_width": null,
            "object_fit": null,
            "object_position": null,
            "order": null,
            "overflow": null,
            "overflow_x": null,
            "overflow_y": null,
            "padding": null,
            "right": null,
            "top": null,
            "visibility": null,
            "width": null
          }
        },
        "5ed9309d3b4c451ebdc33653e72472e2": {
          "model_module": "@jupyter-widgets/controls",
          "model_module_version": "1.5.0",
          "model_name": "DescriptionStyleModel",
          "state": {
            "_model_module": "@jupyter-widgets/controls",
            "_model_module_version": "1.5.0",
            "_model_name": "DescriptionStyleModel",
            "_view_count": null,
            "_view_module": "@jupyter-widgets/base",
            "_view_module_version": "1.2.0",
            "_view_name": "StyleView",
            "description_width": ""
          }
        },
        "5f255ab398c84f908031600fd9eb1e58": {
          "model_module": "@jupyter-widgets/controls",
          "model_module_version": "1.5.0",
          "model_name": "DescriptionStyleModel",
          "state": {
            "_model_module": "@jupyter-widgets/controls",
            "_model_module_version": "1.5.0",
            "_model_name": "DescriptionStyleModel",
            "_view_count": null,
            "_view_module": "@jupyter-widgets/base",
            "_view_module_version": "1.2.0",
            "_view_name": "StyleView",
            "description_width": ""
          }
        },
        "61f0f5877c8d416fbe61be047cab5e29": {
          "model_module": "@jupyter-widgets/base",
          "model_module_version": "1.2.0",
          "model_name": "LayoutModel",
          "state": {
            "_model_module": "@jupyter-widgets/base",
            "_model_module_version": "1.2.0",
            "_model_name": "LayoutModel",
            "_view_count": null,
            "_view_module": "@jupyter-widgets/base",
            "_view_module_version": "1.2.0",
            "_view_name": "LayoutView",
            "align_content": null,
            "align_items": null,
            "align_self": null,
            "border": null,
            "bottom": null,
            "display": null,
            "flex": null,
            "flex_flow": null,
            "grid_area": null,
            "grid_auto_columns": null,
            "grid_auto_flow": null,
            "grid_auto_rows": null,
            "grid_column": null,
            "grid_gap": null,
            "grid_row": null,
            "grid_template_areas": null,
            "grid_template_columns": null,
            "grid_template_rows": null,
            "height": null,
            "justify_content": null,
            "justify_items": null,
            "left": null,
            "margin": null,
            "max_height": null,
            "max_width": null,
            "min_height": null,
            "min_width": null,
            "object_fit": null,
            "object_position": null,
            "order": null,
            "overflow": null,
            "overflow_x": null,
            "overflow_y": null,
            "padding": null,
            "right": null,
            "top": null,
            "visibility": null,
            "width": null
          }
        },
        "7bb66b4e66af45f6bfc17cb5536e9c88": {
          "model_module": "@jupyter-widgets/base",
          "model_module_version": "1.2.0",
          "model_name": "LayoutModel",
          "state": {
            "_model_module": "@jupyter-widgets/base",
            "_model_module_version": "1.2.0",
            "_model_name": "LayoutModel",
            "_view_count": null,
            "_view_module": "@jupyter-widgets/base",
            "_view_module_version": "1.2.0",
            "_view_name": "LayoutView",
            "align_content": null,
            "align_items": null,
            "align_self": null,
            "border": null,
            "bottom": null,
            "display": null,
            "flex": null,
            "flex_flow": null,
            "grid_area": null,
            "grid_auto_columns": null,
            "grid_auto_flow": null,
            "grid_auto_rows": null,
            "grid_column": null,
            "grid_gap": null,
            "grid_row": null,
            "grid_template_areas": null,
            "grid_template_columns": null,
            "grid_template_rows": null,
            "height": null,
            "justify_content": null,
            "justify_items": null,
            "left": null,
            "margin": null,
            "max_height": null,
            "max_width": null,
            "min_height": null,
            "min_width": null,
            "object_fit": null,
            "object_position": null,
            "order": null,
            "overflow": null,
            "overflow_x": null,
            "overflow_y": null,
            "padding": null,
            "right": null,
            "top": null,
            "visibility": null,
            "width": null
          }
        },
        "7be3dc6d67be4956803e932be39f33bc": {
          "model_module": "@jupyter-widgets/base",
          "model_module_version": "1.2.0",
          "model_name": "LayoutModel",
          "state": {
            "_model_module": "@jupyter-widgets/base",
            "_model_module_version": "1.2.0",
            "_model_name": "LayoutModel",
            "_view_count": null,
            "_view_module": "@jupyter-widgets/base",
            "_view_module_version": "1.2.0",
            "_view_name": "LayoutView",
            "align_content": null,
            "align_items": null,
            "align_self": null,
            "border": null,
            "bottom": null,
            "display": null,
            "flex": null,
            "flex_flow": null,
            "grid_area": null,
            "grid_auto_columns": null,
            "grid_auto_flow": null,
            "grid_auto_rows": null,
            "grid_column": null,
            "grid_gap": null,
            "grid_row": null,
            "grid_template_areas": null,
            "grid_template_columns": null,
            "grid_template_rows": null,
            "height": null,
            "justify_content": null,
            "justify_items": null,
            "left": null,
            "margin": null,
            "max_height": null,
            "max_width": null,
            "min_height": null,
            "min_width": null,
            "object_fit": null,
            "object_position": null,
            "order": null,
            "overflow": null,
            "overflow_x": null,
            "overflow_y": null,
            "padding": null,
            "right": null,
            "top": null,
            "visibility": null,
            "width": null
          }
        },
        "9f660c3dda2d4a469bf9c4ee14e485bf": {
          "model_module": "@jupyter-widgets/controls",
          "model_module_version": "1.5.0",
          "model_name": "HTMLModel",
          "state": {
            "_dom_classes": [],
            "_model_module": "@jupyter-widgets/controls",
            "_model_module_version": "1.5.0",
            "_model_name": "HTMLModel",
            "_view_count": null,
            "_view_module": "@jupyter-widgets/controls",
            "_view_module_version": "1.5.0",
            "_view_name": "HTMLView",
            "description": "",
            "description_tooltip": null,
            "layout": "IPY_MODEL_d41388fd203e4afaa42323fd7e97c0dc",
            "placeholder": "​",
            "style": "IPY_MODEL_5ed9309d3b4c451ebdc33653e72472e2",
            "value": " 22192/22192 [00:10&lt;00:00, 1397.57 examples/s]"
          }
        },
        "a358b22a55d84ca18f210851e7bbcfd0": {
          "model_module": "@jupyter-widgets/controls",
          "model_module_version": "1.5.0",
          "model_name": "ProgressStyleModel",
          "state": {
            "_model_module": "@jupyter-widgets/controls",
            "_model_module_version": "1.5.0",
            "_model_name": "ProgressStyleModel",
            "_view_count": null,
            "_view_module": "@jupyter-widgets/base",
            "_view_module_version": "1.2.0",
            "_view_name": "StyleView",
            "bar_color": null,
            "description_width": ""
          }
        },
        "a47ac959cfa444caba582062290a3a74": {
          "model_module": "@jupyter-widgets/base",
          "model_module_version": "1.2.0",
          "model_name": "LayoutModel",
          "state": {
            "_model_module": "@jupyter-widgets/base",
            "_model_module_version": "1.2.0",
            "_model_name": "LayoutModel",
            "_view_count": null,
            "_view_module": "@jupyter-widgets/base",
            "_view_module_version": "1.2.0",
            "_view_name": "LayoutView",
            "align_content": null,
            "align_items": null,
            "align_self": null,
            "border": null,
            "bottom": null,
            "display": null,
            "flex": null,
            "flex_flow": null,
            "grid_area": null,
            "grid_auto_columns": null,
            "grid_auto_flow": null,
            "grid_auto_rows": null,
            "grid_column": null,
            "grid_gap": null,
            "grid_row": null,
            "grid_template_areas": null,
            "grid_template_columns": null,
            "grid_template_rows": null,
            "height": null,
            "justify_content": null,
            "justify_items": null,
            "left": null,
            "margin": null,
            "max_height": null,
            "max_width": null,
            "min_height": null,
            "min_width": null,
            "object_fit": null,
            "object_position": null,
            "order": null,
            "overflow": null,
            "overflow_x": null,
            "overflow_y": null,
            "padding": null,
            "right": null,
            "top": null,
            "visibility": null,
            "width": null
          }
        },
        "b0e5befb19034c9fa0d1164b9e2c7b19": {
          "model_module": "@jupyter-widgets/controls",
          "model_module_version": "1.5.0",
          "model_name": "FloatProgressModel",
          "state": {
            "_dom_classes": [],
            "_model_module": "@jupyter-widgets/controls",
            "_model_module_version": "1.5.0",
            "_model_name": "FloatProgressModel",
            "_view_count": null,
            "_view_module": "@jupyter-widgets/controls",
            "_view_module_version": "1.5.0",
            "_view_name": "ProgressView",
            "bar_style": "success",
            "description": "",
            "description_tooltip": null,
            "layout": "IPY_MODEL_f6efa4e4c28f4eba969593ff92f857b1",
            "max": 22192,
            "min": 0,
            "orientation": "horizontal",
            "style": "IPY_MODEL_c3c1f33e5edf4ec7b3ac69656a155e87",
            "value": 22192
          }
        },
        "b382adf2731042c787546109a84dc3f6": {
          "model_module": "@jupyter-widgets/controls",
          "model_module_version": "1.5.0",
          "model_name": "HBoxModel",
          "state": {
            "_dom_classes": [],
            "_model_module": "@jupyter-widgets/controls",
            "_model_module_version": "1.5.0",
            "_model_name": "HBoxModel",
            "_view_count": null,
            "_view_module": "@jupyter-widgets/controls",
            "_view_module_version": "1.5.0",
            "_view_name": "HBoxView",
            "box_style": "",
            "children": [
              "IPY_MODEL_de6030f90dc34325bbbaf15d9216a1aa",
              "IPY_MODEL_b0e5befb19034c9fa0d1164b9e2c7b19",
              "IPY_MODEL_9f660c3dda2d4a469bf9c4ee14e485bf"
            ],
            "layout": "IPY_MODEL_5ad0362a3a3c4cc0bd7cfe61c1d36f78"
          }
        },
        "bb991278ca64403a95a440b1a7c3cdb0": {
          "model_module": "@jupyter-widgets/base",
          "model_module_version": "1.2.0",
          "model_name": "LayoutModel",
          "state": {
            "_model_module": "@jupyter-widgets/base",
            "_model_module_version": "1.2.0",
            "_model_name": "LayoutModel",
            "_view_count": null,
            "_view_module": "@jupyter-widgets/base",
            "_view_module_version": "1.2.0",
            "_view_name": "LayoutView",
            "align_content": null,
            "align_items": null,
            "align_self": null,
            "border": null,
            "bottom": null,
            "display": null,
            "flex": null,
            "flex_flow": null,
            "grid_area": null,
            "grid_auto_columns": null,
            "grid_auto_flow": null,
            "grid_auto_rows": null,
            "grid_column": null,
            "grid_gap": null,
            "grid_row": null,
            "grid_template_areas": null,
            "grid_template_columns": null,
            "grid_template_rows": null,
            "height": null,
            "justify_content": null,
            "justify_items": null,
            "left": null,
            "margin": null,
            "max_height": null,
            "max_width": null,
            "min_height": null,
            "min_width": null,
            "object_fit": null,
            "object_position": null,
            "order": null,
            "overflow": null,
            "overflow_x": null,
            "overflow_y": null,
            "padding": null,
            "right": null,
            "top": null,
            "visibility": null,
            "width": null
          }
        },
        "c3c1f33e5edf4ec7b3ac69656a155e87": {
          "model_module": "@jupyter-widgets/controls",
          "model_module_version": "1.5.0",
          "model_name": "ProgressStyleModel",
          "state": {
            "_model_module": "@jupyter-widgets/controls",
            "_model_module_version": "1.5.0",
            "_model_name": "ProgressStyleModel",
            "_view_count": null,
            "_view_module": "@jupyter-widgets/base",
            "_view_module_version": "1.2.0",
            "_view_name": "StyleView",
            "bar_color": null,
            "description_width": ""
          }
        },
        "c8bce856b2c441bfb6ef7e73d7ecf64d": {
          "model_module": "@jupyter-widgets/controls",
          "model_module_version": "1.5.0",
          "model_name": "HBoxModel",
          "state": {
            "_dom_classes": [],
            "_model_module": "@jupyter-widgets/controls",
            "_model_module_version": "1.5.0",
            "_model_name": "HBoxModel",
            "_view_count": null,
            "_view_module": "@jupyter-widgets/controls",
            "_view_module_version": "1.5.0",
            "_view_name": "HBoxView",
            "box_style": "",
            "children": [
              "IPY_MODEL_e74846db28674791ae00ded593529a5c",
              "IPY_MODEL_d95be85bf4a1459ba96d8f1527fe3724",
              "IPY_MODEL_e0d2eded18c64922b489351fff80af18"
            ],
            "layout": "IPY_MODEL_477e47f10998404e93a174df53ff06f7"
          }
        },
        "d41388fd203e4afaa42323fd7e97c0dc": {
          "model_module": "@jupyter-widgets/base",
          "model_module_version": "1.2.0",
          "model_name": "LayoutModel",
          "state": {
            "_model_module": "@jupyter-widgets/base",
            "_model_module_version": "1.2.0",
            "_model_name": "LayoutModel",
            "_view_count": null,
            "_view_module": "@jupyter-widgets/base",
            "_view_module_version": "1.2.0",
            "_view_name": "LayoutView",
            "align_content": null,
            "align_items": null,
            "align_self": null,
            "border": null,
            "bottom": null,
            "display": null,
            "flex": null,
            "flex_flow": null,
            "grid_area": null,
            "grid_auto_columns": null,
            "grid_auto_flow": null,
            "grid_auto_rows": null,
            "grid_column": null,
            "grid_gap": null,
            "grid_row": null,
            "grid_template_areas": null,
            "grid_template_columns": null,
            "grid_template_rows": null,
            "height": null,
            "justify_content": null,
            "justify_items": null,
            "left": null,
            "margin": null,
            "max_height": null,
            "max_width": null,
            "min_height": null,
            "min_width": null,
            "object_fit": null,
            "object_position": null,
            "order": null,
            "overflow": null,
            "overflow_x": null,
            "overflow_y": null,
            "padding": null,
            "right": null,
            "top": null,
            "visibility": null,
            "width": null
          }
        },
        "d4907ec164434ebfaa07acc5e3a52a14": {
          "model_module": "@jupyter-widgets/controls",
          "model_module_version": "1.5.0",
          "model_name": "HTMLModel",
          "state": {
            "_dom_classes": [],
            "_model_module": "@jupyter-widgets/controls",
            "_model_module_version": "1.5.0",
            "_model_name": "HTMLModel",
            "_view_count": null,
            "_view_module": "@jupyter-widgets/controls",
            "_view_module_version": "1.5.0",
            "_view_name": "HTMLView",
            "description": "",
            "description_tooltip": null,
            "layout": "IPY_MODEL_61f0f5877c8d416fbe61be047cab5e29",
            "placeholder": "​",
            "style": "IPY_MODEL_10ca502896e549e0904784d8fe7cff91",
            "value": "Map: 100%"
          }
        },
        "d6ae04552a53467799b1e6067fbd82f3": {
          "model_module": "@jupyter-widgets/base",
          "model_module_version": "1.2.0",
          "model_name": "LayoutModel",
          "state": {
            "_model_module": "@jupyter-widgets/base",
            "_model_module_version": "1.2.0",
            "_model_name": "LayoutModel",
            "_view_count": null,
            "_view_module": "@jupyter-widgets/base",
            "_view_module_version": "1.2.0",
            "_view_name": "LayoutView",
            "align_content": null,
            "align_items": null,
            "align_self": null,
            "border": null,
            "bottom": null,
            "display": null,
            "flex": null,
            "flex_flow": null,
            "grid_area": null,
            "grid_auto_columns": null,
            "grid_auto_flow": null,
            "grid_auto_rows": null,
            "grid_column": null,
            "grid_gap": null,
            "grid_row": null,
            "grid_template_areas": null,
            "grid_template_columns": null,
            "grid_template_rows": null,
            "height": null,
            "justify_content": null,
            "justify_items": null,
            "left": null,
            "margin": null,
            "max_height": null,
            "max_width": null,
            "min_height": null,
            "min_width": null,
            "object_fit": null,
            "object_position": null,
            "order": null,
            "overflow": null,
            "overflow_x": null,
            "overflow_y": null,
            "padding": null,
            "right": null,
            "top": null,
            "visibility": null,
            "width": null
          }
        },
        "d813a720cd72428b9f3b14f37e8e9b87": {
          "model_module": "@jupyter-widgets/controls",
          "model_module_version": "1.5.0",
          "model_name": "FloatProgressModel",
          "state": {
            "_dom_classes": [],
            "_model_module": "@jupyter-widgets/controls",
            "_model_module_version": "1.5.0",
            "_model_name": "FloatProgressModel",
            "_view_count": null,
            "_view_module": "@jupyter-widgets/controls",
            "_view_module_version": "1.5.0",
            "_view_name": "ProgressView",
            "bar_style": "success",
            "description": "",
            "description_tooltip": null,
            "layout": "IPY_MODEL_132c13a264e749d99be033155297716f",
            "max": 22192,
            "min": 0,
            "orientation": "horizontal",
            "style": "IPY_MODEL_a358b22a55d84ca18f210851e7bbcfd0",
            "value": 22192
          }
        },
        "d95be85bf4a1459ba96d8f1527fe3724": {
          "model_module": "@jupyter-widgets/controls",
          "model_module_version": "1.5.0",
          "model_name": "FloatProgressModel",
          "state": {
            "_dom_classes": [],
            "_model_module": "@jupyter-widgets/controls",
            "_model_module_version": "1.5.0",
            "_model_name": "FloatProgressModel",
            "_view_count": null,
            "_view_module": "@jupyter-widgets/controls",
            "_view_module_version": "1.5.0",
            "_view_name": "ProgressView",
            "bar_style": "success",
            "description": "",
            "description_tooltip": null,
            "layout": "IPY_MODEL_d6ae04552a53467799b1e6067fbd82f3",
            "max": 22192,
            "min": 0,
            "orientation": "horizontal",
            "style": "IPY_MODEL_034faac1724f452db25acba3ce26fd96",
            "value": 22192
          }
        },
        "dddaec221fba4ba783b33858d0fa926a": {
          "model_module": "@jupyter-widgets/controls",
          "model_module_version": "1.5.0",
          "model_name": "HBoxModel",
          "state": {
            "_dom_classes": [],
            "_model_module": "@jupyter-widgets/controls",
            "_model_module_version": "1.5.0",
            "_model_name": "HBoxModel",
            "_view_count": null,
            "_view_module": "@jupyter-widgets/controls",
            "_view_module_version": "1.5.0",
            "_view_name": "HBoxView",
            "box_style": "",
            "children": [
              "IPY_MODEL_d4907ec164434ebfaa07acc5e3a52a14",
              "IPY_MODEL_d813a720cd72428b9f3b14f37e8e9b87",
              "IPY_MODEL_040155f3a6584a8695d9430de8460559"
            ],
            "layout": "IPY_MODEL_7bb66b4e66af45f6bfc17cb5536e9c88"
          }
        },
        "de6030f90dc34325bbbaf15d9216a1aa": {
          "model_module": "@jupyter-widgets/controls",
          "model_module_version": "1.5.0",
          "model_name": "HTMLModel",
          "state": {
            "_dom_classes": [],
            "_model_module": "@jupyter-widgets/controls",
            "_model_module_version": "1.5.0",
            "_model_name": "HTMLModel",
            "_view_count": null,
            "_view_module": "@jupyter-widgets/controls",
            "_view_module_version": "1.5.0",
            "_view_name": "HTMLView",
            "description": "",
            "description_tooltip": null,
            "layout": "IPY_MODEL_bb991278ca64403a95a440b1a7c3cdb0",
            "placeholder": "​",
            "style": "IPY_MODEL_5f255ab398c84f908031600fd9eb1e58",
            "value": "Map: 100%"
          }
        },
        "e0d2eded18c64922b489351fff80af18": {
          "model_module": "@jupyter-widgets/controls",
          "model_module_version": "1.5.0",
          "model_name": "HTMLModel",
          "state": {
            "_dom_classes": [],
            "_model_module": "@jupyter-widgets/controls",
            "_model_module_version": "1.5.0",
            "_model_name": "HTMLModel",
            "_view_count": null,
            "_view_module": "@jupyter-widgets/controls",
            "_view_module_version": "1.5.0",
            "_view_name": "HTMLView",
            "description": "",
            "description_tooltip": null,
            "layout": "IPY_MODEL_e31bce2fd2c64d5b9b14d3464faa2521",
            "placeholder": "​",
            "style": "IPY_MODEL_122f6c40fa2940cb9cf5136be07fe04a",
            "value": " 22192/22192 [00:10&lt;00:00, 2247.86 examples/s]"
          }
        },
        "e31bce2fd2c64d5b9b14d3464faa2521": {
          "model_module": "@jupyter-widgets/base",
          "model_module_version": "1.2.0",
          "model_name": "LayoutModel",
          "state": {
            "_model_module": "@jupyter-widgets/base",
            "_model_module_version": "1.2.0",
            "_model_name": "LayoutModel",
            "_view_count": null,
            "_view_module": "@jupyter-widgets/base",
            "_view_module_version": "1.2.0",
            "_view_name": "LayoutView",
            "align_content": null,
            "align_items": null,
            "align_self": null,
            "border": null,
            "bottom": null,
            "display": null,
            "flex": null,
            "flex_flow": null,
            "grid_area": null,
            "grid_auto_columns": null,
            "grid_auto_flow": null,
            "grid_auto_rows": null,
            "grid_column": null,
            "grid_gap": null,
            "grid_row": null,
            "grid_template_areas": null,
            "grid_template_columns": null,
            "grid_template_rows": null,
            "height": null,
            "justify_content": null,
            "justify_items": null,
            "left": null,
            "margin": null,
            "max_height": null,
            "max_width": null,
            "min_height": null,
            "min_width": null,
            "object_fit": null,
            "object_position": null,
            "order": null,
            "overflow": null,
            "overflow_x": null,
            "overflow_y": null,
            "padding": null,
            "right": null,
            "top": null,
            "visibility": null,
            "width": null
          }
        },
        "e74846db28674791ae00ded593529a5c": {
          "model_module": "@jupyter-widgets/controls",
          "model_module_version": "1.5.0",
          "model_name": "HTMLModel",
          "state": {
            "_dom_classes": [],
            "_model_module": "@jupyter-widgets/controls",
            "_model_module_version": "1.5.0",
            "_model_name": "HTMLModel",
            "_view_count": null,
            "_view_module": "@jupyter-widgets/controls",
            "_view_module_version": "1.5.0",
            "_view_name": "HTMLView",
            "description": "",
            "description_tooltip": null,
            "layout": "IPY_MODEL_a47ac959cfa444caba582062290a3a74",
            "placeholder": "​",
            "style": "IPY_MODEL_1d639707b65a458c92f94eff7a0ea98f",
            "value": "Map: 100%"
          }
        },
        "f6efa4e4c28f4eba969593ff92f857b1": {
          "model_module": "@jupyter-widgets/base",
          "model_module_version": "1.2.0",
          "model_name": "LayoutModel",
          "state": {
            "_model_module": "@jupyter-widgets/base",
            "_model_module_version": "1.2.0",
            "_model_name": "LayoutModel",
            "_view_count": null,
            "_view_module": "@jupyter-widgets/base",
            "_view_module_version": "1.2.0",
            "_view_name": "LayoutView",
            "align_content": null,
            "align_items": null,
            "align_self": null,
            "border": null,
            "bottom": null,
            "display": null,
            "flex": null,
            "flex_flow": null,
            "grid_area": null,
            "grid_auto_columns": null,
            "grid_auto_flow": null,
            "grid_auto_rows": null,
            "grid_column": null,
            "grid_gap": null,
            "grid_row": null,
            "grid_template_areas": null,
            "grid_template_columns": null,
            "grid_template_rows": null,
            "height": null,
            "justify_content": null,
            "justify_items": null,
            "left": null,
            "margin": null,
            "max_height": null,
            "max_width": null,
            "min_height": null,
            "min_width": null,
            "object_fit": null,
            "object_position": null,
            "order": null,
            "overflow": null,
            "overflow_x": null,
            "overflow_y": null,
            "padding": null,
            "right": null,
            "top": null,
            "visibility": null,
            "width": null
          }
        }
      }
    }
  },
  "nbformat": 4,
  "nbformat_minor": 0
}
